{
 "cells": [
  {
   "cell_type": "code",
   "execution_count": null,
   "id": "1b75b337-d4e6-4597-b5fe-b06935ea2474",
   "metadata": {},
   "outputs": [],
   "source": [
    "import os\n",
    "import tools.visualise as visualizer\n",
    "from PIL import Image\n",
    "import glob\n",
    "path = \"data/visualized_masks\"\n",
    "imgs = glob.glob(os.path.join(path, \"final_mask_resized*.png\"))\n",
    "imgs.sort(key=lambda x: int(x.split('_')[-1].split('.')[0]))\n",
    "\n",
    "images = []\n",
    "for img in imgs:\n",
    "    image = Image.open(img)\n",
    "    #image = visualizer.resize_image(image, (50, 50))\n",
    "    images.append(image)\n",
    "\n",
    "visualizer.plot_images(images)"
   ]
  },
  {
   "cell_type": "code",
   "execution_count": null,
   "id": "ac1658a4-3b83-4acb-a853-cdc7a5eb0b83",
   "metadata": {},
   "outputs": [],
   "source": []
  }
 ],
 "metadata": {
  "kernelspec": {
   "display_name": "Python 3 (ipykernel)",
   "language": "python",
   "name": "python3"
  },
  "language_info": {
   "codemirror_mode": {
    "name": "ipython",
    "version": 3
   },
   "file_extension": ".py",
   "mimetype": "text/x-python",
   "name": "python",
   "nbconvert_exporter": "python",
   "pygments_lexer": "ipython3",
   "version": "3.10.13"
  }
 },
 "nbformat": 4,
 "nbformat_minor": 5
}
