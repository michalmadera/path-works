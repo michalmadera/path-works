{
 "cells": [
  {
   "cell_type": "code",
   "execution_count": 1,
   "id": "7015b654-4b74-4997-ae4b-ab88f663ae84",
   "metadata": {},
   "outputs": [
    {
     "name": "stderr",
     "output_type": "stream",
     "text": [
      "2024-03-12 16:42:56.416168: I tensorflow/core/platform/cpu_feature_guard.cc:182] This TensorFlow binary is optimized to use available CPU instructions in performance-critical operations.\n",
      "To enable the following instructions: AVX2 FMA, in other operations, rebuild TensorFlow with the appropriate compiler flags.\n",
      "2024-03-12 16:42:56.949558: W tensorflow/compiler/tf2tensorrt/utils/py_utils.cc:38] TF-TRT Warning: Could not find TensorRT\n",
      "2024-03-12 16:42:57.675788: I tensorflow/compiler/xla/stream_executor/cuda/cuda_gpu_executor.cc:981] could not open file to read NUMA node: /sys/bus/pci/devices/0000:04:00.0/numa_node\n",
      "Your kernel may have been built without NUMA support.\n",
      "2024-03-12 16:42:57.688280: I tensorflow/compiler/xla/stream_executor/cuda/cuda_gpu_executor.cc:981] could not open file to read NUMA node: /sys/bus/pci/devices/0000:04:00.0/numa_node\n",
      "Your kernel may have been built without NUMA support.\n",
      "2024-03-12 16:42:57.688331: I tensorflow/compiler/xla/stream_executor/cuda/cuda_gpu_executor.cc:981] could not open file to read NUMA node: /sys/bus/pci/devices/0000:04:00.0/numa_node\n",
      "Your kernel may have been built without NUMA support.\n",
      "2024-03-12 16:42:57.689996: I tensorflow/compiler/xla/stream_executor/cuda/cuda_gpu_executor.cc:981] could not open file to read NUMA node: /sys/bus/pci/devices/0000:04:00.0/numa_node\n",
      "Your kernel may have been built without NUMA support.\n",
      "2024-03-12 16:42:57.690034: I tensorflow/compiler/xla/stream_executor/cuda/cuda_gpu_executor.cc:981] could not open file to read NUMA node: /sys/bus/pci/devices/0000:04:00.0/numa_node\n",
      "Your kernel may have been built without NUMA support.\n",
      "2024-03-12 16:42:57.690062: I tensorflow/compiler/xla/stream_executor/cuda/cuda_gpu_executor.cc:981] could not open file to read NUMA node: /sys/bus/pci/devices/0000:04:00.0/numa_node\n",
      "Your kernel may have been built without NUMA support.\n",
      "2024-03-12 16:42:57.792392: I tensorflow/compiler/xla/stream_executor/cuda/cuda_gpu_executor.cc:981] could not open file to read NUMA node: /sys/bus/pci/devices/0000:04:00.0/numa_node\n",
      "Your kernel may have been built without NUMA support.\n",
      "2024-03-12 16:42:57.792455: I tensorflow/compiler/xla/stream_executor/cuda/cuda_gpu_executor.cc:981] could not open file to read NUMA node: /sys/bus/pci/devices/0000:04:00.0/numa_node\n",
      "Your kernel may have been built without NUMA support.\n",
      "2024-03-12 16:42:57.792463: I tensorflow/core/common_runtime/gpu/gpu_device.cc:1726] Could not identify NUMA node of platform GPU id 0, defaulting to 0.  Your kernel may not have been built with NUMA support.\n",
      "2024-03-12 16:42:57.792496: I tensorflow/compiler/xla/stream_executor/cuda/cuda_gpu_executor.cc:981] could not open file to read NUMA node: /sys/bus/pci/devices/0000:04:00.0/numa_node\n",
      "Your kernel may have been built without NUMA support.\n",
      "2024-03-12 16:42:57.792522: I tensorflow/core/common_runtime/gpu/gpu_device.cc:1639] Created device /job:localhost/replica:0/task:0/device:GPU:0 with 4699 MB memory:  -> device: 0, name: NVIDIA GeForce GTX 1060 6GB, pci bus id: 0000:04:00.0, compute capability: 6.1\n"
     ]
    }
   ],
   "source": [
    "import tensorflow as tf\n",
    "from PIL import ImageOps\n",
    "import keras\n",
    "import numpy as np\n",
    "from tensorflow import data as tf_data\n",
    "from tensorflow import image as tf_image\n",
    "from tensorflow import io as tf_io\n",
    "img_size = (256, 256)\n",
    "num_classes = 2\n",
    "batch_size = 32\n",
    "def get_dataset(\n",
    "    batch_size,\n",
    "    img_size,\n",
    "    input_img_paths,\n",
    "    target_img_paths,\n",
    "    max_dataset_len=None,\n",
    "):\n",
    "    \"\"\"Returns a TF Dataset.\"\"\"\n",
    "\n",
    "    def load_img_masks(input_img_path, target_img_path):\n",
    "        input_img = tf_io.read_file(input_img_path)\n",
    "        input_img = tf_io.decode_png(input_img, channels=3)\n",
    "        input_img = tf_image.resize(input_img, img_size)\n",
    "        input_img = tf_image.convert_image_dtype(input_img, \"float32\")\n",
    "\n",
    "        target_img = tf_io.read_file(target_img_path)\n",
    "        target_img = tf_io.decode_png(target_img, channels=1)\n",
    "        target_img = tf_image.resize(target_img, img_size, method=\"nearest\")\n",
    "        target_img = tf_image.convert_image_dtype(target_img, \"uint8\")\n",
    "\n",
    "        # Ground truth labels are 1, 2, 3. Subtract one to make them 0, 1, 2:\n",
    "        # target_img -= 1\n",
    "        return input_img, target_img\n",
    "\n",
    "    # For faster debugging, limit the size of data\n",
    "    if max_dataset_len:\n",
    "        input_img_paths = input_img_paths[:max_dataset_len]\n",
    "        target_img_paths = target_img_paths[:max_dataset_len]\n",
    "    dataset = tf_data.Dataset.from_tensor_slices((input_img_paths, target_img_paths))\n",
    "    dataset = dataset.map(load_img_masks, num_parallel_calls=tf_data.AUTOTUNE)\n",
    "    return dataset.batch(batch_size)\n",
    "model = tf.keras.models.load_model('oxford_segmentation.tf')"
   ]
  },
  {
   "cell_type": "code",
   "execution_count": 2,
   "id": "ff69b852-fb69-44b1-a096-0321b3896929",
   "metadata": {},
   "outputs": [],
   "source": [
    "import os\n",
    "import re\n",
    "import tools.cv2_visualise as cv2_visualizer\n",
    "input_img_paths = sorted([os.path.join(\"data/test_tiles\", fname) for fname in os.listdir(\"data/test_tiles\")])\n",
    "target_img_paths = sorted([os.path.join(\"data/test_mask_tiles\", fname) for fname in os.listdir(\"data/test_mask_tiles\")])\n",
    "input_img_paths = sorted(input_img_paths, key=lambda x: [int(i) if i.isdigit() else i for i in re.split('(\\d+)', x)])\n",
    "target_img_paths = sorted(target_img_paths, key=lambda x: [int(i) if i.isdigit() else i for i in re.split('(\\d+)', x)])\n"
   ]
  },
  {
   "cell_type": "code",
   "execution_count": 3,
   "id": "e01f9746-eb26-4271-89ff-0755cee774c4",
   "metadata": {},
   "outputs": [],
   "source": [
    "import os\n",
    "def find_images_with_prefix(base_path, prefix):\n",
    "    image_set = set()\n",
    "    for fname in os.listdir(base_path):\n",
    "        if fname.startswith(prefix):\n",
    "            image_set.add(os.path.join(base_path, fname))\n",
    "    sorted_images = sorted(image_set, key=lambda x: [int(i) if i.isdigit() else i for i in re.split('(\\d+)', x)])\n",
    "    return sorted_images\n",
    "    \n",
    "base_path = \"data/test-tiles\"\n",
    "base_mask_path = \"data/test_mask-tiles\"\n",
    "prefix_45 = \"45.\"\n",
    "prefix_79 = \"79.\"\n",
    "prefix_43 = \"43.\"\n",
    "prefix_91 = \"91.\"\n",
    "input_img_paths_45 = find_images_with_prefix(base_path, prefix_45)\n",
    "target_img_paths_45 = find_images_with_prefix(base_mask_path, prefix_45)\n",
    "input_img_paths_79 = find_images_with_prefix(base_path, prefix_79)\n",
    "target_img_paths_79 = find_images_with_prefix(base_mask_path, prefix_79)\n",
    "input_img_paths_43 = find_images_with_prefix(base_path, prefix_43)\n",
    "target_img_paths_43 = find_images_with_prefix(base_mask_path, prefix_43)\n",
    "input_img_paths_91 = find_images_with_prefix(base_path, prefix_91)\n",
    "target_img_paths_91 = find_images_with_prefix(base_mask_path, prefix_91)"
   ]
  },
  {
   "cell_type": "code",
   "execution_count": 4,
   "id": "487c3806-65b9-4a28-ad39-ec0c177a7acd",
   "metadata": {},
   "outputs": [
    {
     "name": "stderr",
     "output_type": "stream",
     "text": [
      "2024-03-12 16:43:00.112508: I tensorflow/compiler/xla/stream_executor/cuda/cuda_dnn.cc:432] Loaded cuDNN version 8800\n"
     ]
    },
    {
     "name": "stdout",
     "output_type": "stream",
     "text": [
      "17/17 [==============================] - 4s 144ms/step\n",
      "40/40 [==============================] - 4s 96ms/step\n",
      "25/25 [==============================] - 4s 148ms/step\n",
      "46/46 [==============================] - 4s 96ms/step\n"
     ]
    }
   ],
   "source": [
    "test_dataset_45 = get_dataset(\n",
    "    16, img_size, input_img_paths_45,target_img_paths_45\n",
    ")\n",
    "\n",
    "test_preds_45 = model.predict(test_dataset_45)\n",
    "\n",
    "test_dataset_79 = get_dataset(\n",
    "    16, img_size, input_img_paths_79,target_img_paths_79\n",
    ")\n",
    "\n",
    "test_preds_79 = model.predict(test_dataset_79)\n",
    "\n",
    "test_dataset_43 = get_dataset(\n",
    "    16, img_size, input_img_paths_43, target_img_paths_43\n",
    ")\n",
    "\n",
    "test_preds_43 = model.predict(test_dataset_43)\n",
    "\n",
    "test_dataset_91 = get_dataset(\n",
    "    16, img_size, input_img_paths_91,target_img_paths_91\n",
    ")\n",
    "\n",
    "test_preds_91 = model.predict(test_dataset_91)"
   ]
  },
  {
   "cell_type": "code",
   "execution_count": 5,
   "id": "6b090419-c0f5-4383-8f3b-9e177cb43e3d",
   "metadata": {},
   "outputs": [],
   "source": [
    "test_pred_list = []\n",
    "def generate_pred_list(i):\n",
    "    mask = np.argmax(test_preds_45[i], axis=-1)\n",
    "    mask = np.expand_dims(mask, axis=-1)\n",
    "    img = ImageOps.autocontrast(keras.utils.array_to_img(mask))\n",
    "    test_pred_list.append(img)\n",
    "\n",
    "for i in range(len(test_preds_45)):\n",
    "    generate_pred_list(i)"
   ]
  },
  {
   "cell_type": "code",
   "execution_count": null,
   "id": "c3598d3a-cafc-4e28-a6e5-c28a4ce9cace",
   "metadata": {},
   "outputs": [],
   "source": [
    "gd_rect_45 = cv2_visualizer.overlay_gd_and_rectangles(mask_dir_path=\"data/source-masks-test/\", file_path=\"data/visualized_masks/tile.csv\", image_number=45, dir_path=\"data/source-images-test/\", save_path=\"data/cv2-test/rectangles_\" ,mask_save_path=\"data/cv2-test/merged_rectangles_with_mask_\" )"
   ]
  },
  {
   "cell_type": "code",
   "execution_count": null,
   "id": "8078bdd4-4616-40ba-bc4e-f3fd25181ed9",
   "metadata": {},
   "outputs": [],
   "source": [
    "pred_45 = cv2_visualizer.merge_prediction_csv(\"data/visualized_masks/tile.csv\", test_pred_list, input_img_paths_45, \"data/source-images-test/\", 45, \"data/cv2-test/prediction_mask_\", \"data/source-images-test/\")"
   ]
  },
  {
   "cell_type": "code",
   "execution_count": null,
   "id": "e41c2915-b9ea-47bd-adf9-f7236caead0f",
   "metadata": {
    "scrolled": true
   },
   "outputs": [],
   "source": [
    "final_mask_45 = cv2_visualizer.final_mask_overlay(\"data/cv2-test/prediction_mask_\",  45,   \"data/cv2-test/merged_rectangles_with_mask_\", \"data/cv2-test/final_mask_\")"
   ]
  }
 ],
 "metadata": {
  "kernelspec": {
   "display_name": "Python 3 (ipykernel)",
   "language": "python",
   "name": "python3"
  },
  "language_info": {
   "codemirror_mode": {
    "name": "ipython",
    "version": 3
   },
   "file_extension": ".py",
   "mimetype": "text/x-python",
   "name": "python",
   "nbconvert_exporter": "python",
   "pygments_lexer": "ipython3",
   "version": "3.10.13"
  }
 },
 "nbformat": 4,
 "nbformat_minor": 5
}
